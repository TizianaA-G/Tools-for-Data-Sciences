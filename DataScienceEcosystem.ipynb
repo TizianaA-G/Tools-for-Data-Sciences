{
 "cells": [
  {
   "cell_type": "markdown",
   "id": "c1de23ca-e8af-4339-8e9d-c36b360f7237",
   "metadata": {},
   "source": [
    "# Data Science Tools and Ecosystem "
   ]
  },
  {
   "cell_type": "markdown",
   "id": "c2f6ab73-df01-4baf-9edf-7ab2836ee170",
   "metadata": {},
   "source": [
    "In this notebook, Data Science Tools and Ecosystem are summarized."
   ]
  },
  {
   "cell_type": "markdown",
   "id": "291011df-32e9-410b-8807-775b8fa633e9",
   "metadata": {},
   "source": [
    "Some of the popular languages that Data Scientists use are:\n",
    "\n",
    "1. python\n",
    "2. R\n",
    "3. SQL"
   ]
  },
  {
   "cell_type": "markdown",
   "id": "fdbe077a-d069-46f2-ae2b-77d779547e3c",
   "metadata": {},
   "source": [
    "Some of the popular languages that Data Scientists use are:\n",
    "1. NumPy\n",
    "2. Pandas\n",
    "3. SciPy"
   ]
  },
  {
   "cell_type": "markdown",
   "id": "820bbb86-3186-4f8a-a5af-c1e8f2802d0d",
   "metadata": {},
   "source": [
    "\n",
    "| Data Science Tools |\n",
    "|--------------------|\n",
    "| Jupyter Notebooks |\n",
    "| R Studio |\n",
    "| Apache Hadoop |"
   ]
  },
  {
   "cell_type": "markdown",
   "id": "5c4eca76-fe65-4bd9-bbd1-2ca7f926849e",
   "metadata": {},
   "source": [
    "### Below are a few examples of evaluating arithmetic expressions in Python"
   ]
  },
  {
   "cell_type": "code",
   "execution_count": 1,
   "id": "6c5ce280-f378-4e60-8af6-15af8ec3d94a",
   "metadata": {},
   "outputs": [
    {
     "data": {
      "text/plain": [
       "17.0"
      ]
     },
     "execution_count": 1,
     "metadata": {},
     "output_type": "execute_result"
    }
   ],
   "source": [
    "# This a simple arithmetic expression to mutiply then add integers\n",
    "(3*4)+5."
   ]
  },
  {
   "cell_type": "code",
   "execution_count": 3,
   "id": "16dc0c75-6124-44c5-8734-679f23514990",
   "metadata": {},
   "outputs": [
    {
     "data": {
      "text/plain": [
       "3.3333333333333335"
      ]
     },
     "execution_count": 3,
     "metadata": {},
     "output_type": "execute_result"
    }
   ],
   "source": [
    "# This will convert 200 minutes to hours by dividing by 60\n",
    "200 / 60"
   ]
  },
  {
   "cell_type": "markdown",
   "id": "60250464-6767-448c-a428-cb06eac1ee83",
   "metadata": {},
   "source": [
    "**Objectives:**\n",
    "* List popular languages for Data Science.\n",
    "* List data science libraries\n",
    "* List data science tools"
   ]
  },
  {
   "cell_type": "markdown",
   "id": "fd4a8cfe-d4a6-46c3-b1dd-70dcc0e27c72",
   "metadata": {},
   "source": [
    "## Author \n",
    "Tiziana Arancino-Gamper"
   ]
  },
  {
   "cell_type": "code",
   "execution_count": null,
   "id": "e7fbfad7-8b35-4089-99c4-7cf0a83e3804",
   "metadata": {},
   "outputs": [],
   "source": []
  }
 ],
 "metadata": {
  "kernelspec": {
   "display_name": "Python",
   "language": "python",
   "name": "conda-env-python-py"
  },
  "language_info": {
   "codemirror_mode": {
    "name": "ipython",
    "version": 3
   },
   "file_extension": ".py",
   "mimetype": "text/x-python",
   "name": "python",
   "nbconvert_exporter": "python",
   "pygments_lexer": "ipython3",
   "version": "3.7.12"
  }
 },
 "nbformat": 4,
 "nbformat_minor": 5
}
